{
 "cells": [
  {
   "cell_type": "markdown",
   "metadata": {},
   "source": [
    "**Бронников Максим Андреевич**"
   ]
  },
  {
   "cell_type": "markdown",
   "metadata": {},
   "source": [
    "*М8О-307Б-17*"
   ]
  },
  {
   "cell_type": "markdown",
   "metadata": {},
   "source": [
    "max120199@gmail.com"
   ]
  },
  {
   "cell_type": "markdown",
   "metadata": {},
   "source": [
    "<h1><center> Лабораторная работа №4  </center></h1>"
   ]
  },
  {
   "cell_type": "markdown",
   "metadata": {},
   "source": [
    "#### Подготовка"
   ]
  },
  {
   "cell_type": "code",
   "execution_count": 1,
   "metadata": {},
   "outputs": [],
   "source": [
    "import random\n",
    "random.seed(42)"
   ]
  },
  {
   "cell_type": "markdown",
   "metadata": {},
   "source": [
    "В качестве осмысленного текста для анализа возьмем поэму *Руслан и Людмила*."
   ]
  },
  {
   "cell_type": "code",
   "execution_count": 2,
   "metadata": {},
   "outputs": [],
   "source": [
    "filepath = \"data/poema.txt\""
   ]
  },
  {
   "cell_type": "code",
   "execution_count": 3,
   "metadata": {},
   "outputs": [],
   "source": [
    "poema = \"\"\n",
    "with open(filepath, 'r') as txt:\n",
    "    poema = txt.read()"
   ]
  },
  {
   "cell_type": "markdown",
   "metadata": {},
   "source": [
    "Так как мы сравниваем буквы, для чистоты эксперимента поделим текст на слова, очистив его от всех знаков препинания и пробразовав все буквы к маленькому регистру."
   ]
  },
  {
   "cell_type": "code",
   "execution_count": 4,
   "metadata": {},
   "outputs": [],
   "source": [
    "def split_words(a_text):\n",
    "    cur_word = ''\n",
    "    prev_is_alpha = False\n",
    "\n",
    "    for letter in a_text:\n",
    "        if letter.isdigit():\n",
    "            continue\n",
    "        if  (letter.isalpha() and prev_is_alpha):\n",
    "            cur_word += letter\n",
    "        elif (letter.isalpha() and not prev_is_alpha):\n",
    "            if cur_word: yield cur_word\n",
    "            cur_word = letter\n",
    "            prev_is_alpha = not prev_is_alpha\n",
    "        else:\n",
    "            if cur_word: yield cur_word\n",
    "            cur_word = ''\n",
    "            prev_is_alpha = False\n",
    "    if cur_word: yield cur_word"
   ]
  },
  {
   "cell_type": "code",
   "execution_count": 5,
   "metadata": {},
   "outputs": [
    {
     "data": {
      "text/plain": [
       "['посвящение',\n",
       " 'для',\n",
       " 'вас',\n",
       " 'души',\n",
       " 'моей',\n",
       " 'царицы',\n",
       " 'красавицы',\n",
       " 'для',\n",
       " 'вас',\n",
       " 'одних',\n",
       " 'времен',\n",
       " 'минувших',\n",
       " 'небылицы',\n",
       " 'в',\n",
       " 'часы']"
      ]
     },
     "execution_count": 5,
     "metadata": {},
     "output_type": "execute_result"
    }
   ],
   "source": [
    "poema_words = list(map(lambda x: x.lower(), split_words(poema)))\n",
    "poema_words[:15]"
   ]
  },
  {
   "cell_type": "markdown",
   "metadata": {},
   "source": [
    "Тогда осмысленный текст составим как обычная конкатенация слов этого списка, поскольку порядок слов, после преобразования из поэмы не поменялся. Первая и вторая половина поэмы - первый и второй текст соответственно."
   ]
  },
  {
   "cell_type": "markdown",
   "metadata": {},
   "source": [
    "Составим полный текст поэмы из слов:"
   ]
  },
  {
   "cell_type": "code",
   "execution_count": 6,
   "metadata": {},
   "outputs": [
    {
     "data": {
      "text/plain": [
       "'посвящение для вас души моей царицы красавицы для вас одних времен минувших небылицы в часы досугов '"
      ]
     },
     "execution_count": 6,
     "metadata": {},
     "output_type": "execute_result"
    }
   ],
   "source": [
    "poema_text = \" \".join(poema_words)\n",
    "poema_text[:100]"
   ]
  },
  {
   "cell_type": "markdown",
   "metadata": {},
   "source": [
    "Длина текстов должна быть одинаоквой, поэтому узнаем длину полученного текста:"
   ]
  },
  {
   "cell_type": "code",
   "execution_count": 7,
   "metadata": {},
   "outputs": [
    {
     "name": "stdout",
     "output_type": "stream",
     "text": [
      "Длина текста: 35987\n"
     ]
    }
   ],
   "source": [
    "text_len = len(poema_text) // 2\n",
    "print(\"Длина текста:\", text_len)"
   ]
  },
  {
   "cell_type": "markdown",
   "metadata": {},
   "source": [
    "Текст №1:"
   ]
  },
  {
   "cell_type": "code",
   "execution_count": 8,
   "metadata": {},
   "outputs": [
    {
     "name": "stdout",
     "output_type": "stream",
     "text": [
      "Длина полученного текста: 35987\n"
     ]
    }
   ],
   "source": [
    "human_text1 = poema_text[:text_len]\n",
    "print(\"Длина полученного текста:\", len(human_text1))"
   ]
  },
  {
   "cell_type": "code",
   "execution_count": 9,
   "metadata": {},
   "outputs": [],
   "source": [
    "with open(\"data/human1.txt\", 'w') as f:\n",
    "    f.write(human_text1)"
   ]
  },
  {
   "cell_type": "markdown",
   "metadata": {},
   "source": [
    "Текст №2:"
   ]
  },
  {
   "cell_type": "code",
   "execution_count": 10,
   "metadata": {},
   "outputs": [
    {
     "name": "stdout",
     "output_type": "stream",
     "text": [
      "Длина полученного текста: 35987\n"
     ]
    }
   ],
   "source": [
    "human_text2 = poema_text[text_len:2*text_len]\n",
    "print(\"Длина полученного текста:\", len(human_text2))"
   ]
  },
  {
   "cell_type": "code",
   "execution_count": 11,
   "metadata": {},
   "outputs": [],
   "source": [
    "with open(\"data/human2.txt\", 'w') as f:\n",
    "    f.write(human_text2)"
   ]
  },
  {
   "cell_type": "markdown",
   "metadata": {},
   "source": [
    "#### Составление текстов"
   ]
  },
  {
   "cell_type": "markdown",
   "metadata": {},
   "source": [
    "*Текст из случайных букв:*"
   ]
  },
  {
   "cell_type": "code",
   "execution_count": 12,
   "metadata": {},
   "outputs": [],
   "source": [
    "def generate_random_chars(alphabet, lenght):\n",
    "    ans = \"\"\n",
    "    max_idx = len(alphabet) - 1\n",
    "    for _ in range(lenght):\n",
    "        ans += alphabet[random.randint(0, max_idx)]\n",
    "    return ans"
   ]
  },
  {
   "cell_type": "markdown",
   "metadata": {},
   "source": [
    "По идее алфавит нашего теста - $36$ букв русского алфавита вместе с пробелом. Однако надежнее будет пройти по тексту и собрать алфавит."
   ]
  },
  {
   "cell_type": "code",
   "execution_count": 13,
   "metadata": {},
   "outputs": [
    {
     "name": "stdout",
     "output_type": "stream",
     "text": [
      "Длина алфавита: 37\n"
     ]
    }
   ],
   "source": [
    "alphabet = list(set(poema_text))\n",
    "print(\"Длина алфавита:\", len(alphabet))"
   ]
  },
  {
   "cell_type": "markdown",
   "metadata": {},
   "source": [
    "Текст №1:"
   ]
  },
  {
   "cell_type": "code",
   "execution_count": 14,
   "metadata": {},
   "outputs": [
    {
     "name": "stdout",
     "output_type": "stream",
     "text": [
      "Длина сгенерированного текста: 35987\n"
     ]
    }
   ],
   "source": [
    "chars_text1 = generate_random_chars(alphabet, text_len)\n",
    "print(\"Длина сгенерированного текста:\", len(chars_text1))"
   ]
  },
  {
   "cell_type": "code",
   "execution_count": 15,
   "metadata": {},
   "outputs": [],
   "source": [
    "with open(\"data/chars1.txt\", 'w') as f:\n",
    "    f.write(chars_text1)"
   ]
  },
  {
   "cell_type": "markdown",
   "metadata": {},
   "source": [
    "Текст №2:"
   ]
  },
  {
   "cell_type": "code",
   "execution_count": 16,
   "metadata": {},
   "outputs": [
    {
     "name": "stdout",
     "output_type": "stream",
     "text": [
      "Длина сгенерированного текста: 35987\n"
     ]
    }
   ],
   "source": [
    "chars_text2 = generate_random_chars(alphabet, text_len)\n",
    "print(\"Длина сгенерированного текста:\", len(chars_text2))"
   ]
  },
  {
   "cell_type": "code",
   "execution_count": 17,
   "metadata": {},
   "outputs": [],
   "source": [
    "with open(\"data/chars2.txt\", 'w') as f:\n",
    "    f.write(chars_text2)"
   ]
  },
  {
   "cell_type": "markdown",
   "metadata": {},
   "source": [
    "*Текст из случайных слов:*"
   ]
  },
  {
   "cell_type": "code",
   "execution_count": 18,
   "metadata": {},
   "outputs": [],
   "source": [
    "def generate_random_words(base, lenght):\n",
    "    gen_len = 0\n",
    "    ans = \"\"\n",
    "    while gen_len < lenght:\n",
    "        possible_words = list(filter(lambda x: len(x) <= lenght - gen_len, base))\n",
    "        idx = random.randint(0, len(possible_words)-1)\n",
    "        ans += possible_words[idx]\n",
    "        gen_len += len(possible_words[idx])\n",
    "        if gen_len < lenght:\n",
    "            ans += \" \"\n",
    "            gen_len += 1\n",
    "    return ans"
   ]
  },
  {
   "cell_type": "markdown",
   "metadata": {},
   "source": [
    "В качестве словаря слов будем использовать слова из поэмы:"
   ]
  },
  {
   "cell_type": "code",
   "execution_count": 19,
   "metadata": {},
   "outputs": [],
   "source": [
    "word_base = list(set(poema_words))"
   ]
  },
  {
   "cell_type": "markdown",
   "metadata": {},
   "source": [
    "Текст №1:"
   ]
  },
  {
   "cell_type": "code",
   "execution_count": 20,
   "metadata": {},
   "outputs": [
    {
     "name": "stdout",
     "output_type": "stream",
     "text": [
      "Длина сгенерированного текста: 35987\n"
     ]
    }
   ],
   "source": [
    "words_text1 = generate_random_words(word_base, text_len)\n",
    "print(\"Длина сгенерированного текста:\", len(words_text1))"
   ]
  },
  {
   "cell_type": "code",
   "execution_count": 21,
   "metadata": {},
   "outputs": [],
   "source": [
    "with open(\"data/words1.txt\", 'w') as f:\n",
    "    f.write(words_text1)"
   ]
  },
  {
   "cell_type": "markdown",
   "metadata": {},
   "source": [
    "Текст №2:"
   ]
  },
  {
   "cell_type": "code",
   "execution_count": 22,
   "metadata": {},
   "outputs": [
    {
     "name": "stdout",
     "output_type": "stream",
     "text": [
      "Длина сгенерированного текста: 35987\n"
     ]
    }
   ],
   "source": [
    "words_text2 = generate_random_words(word_base, text_len)\n",
    "print(\"Длина сгенерированного текста:\", len(words_text2))"
   ]
  },
  {
   "cell_type": "code",
   "execution_count": 23,
   "metadata": {},
   "outputs": [],
   "source": [
    "with open(\"data/words2.txt\", 'w') as f:\n",
    "    f.write(words_text2)"
   ]
  },
  {
   "cell_type": "markdown",
   "metadata": {},
   "source": [
    "#### Сравнения"
   ]
  },
  {
   "cell_type": "markdown",
   "metadata": {},
   "source": [
    "Функция сравнения 2-ух текстов:"
   ]
  },
  {
   "cell_type": "code",
   "execution_count": 24,
   "metadata": {},
   "outputs": [],
   "source": [
    "def compare_texts(text1, text2):\n",
    "    if len(text1) != len(text2):\n",
    "        raise ValueError\n",
    "    lenght = len(text1)\n",
    "    equals = 0\n",
    "    for i in range(lenght):\n",
    "        if text1[i] == text2[i]:\n",
    "            equals += 1\n",
    "    return equals / lenght"
   ]
  },
  {
   "cell_type": "markdown",
   "metadata": {},
   "source": [
    "Два осмысленных текста:"
   ]
  },
  {
   "cell_type": "code",
   "execution_count": 25,
   "metadata": {},
   "outputs": [
    {
     "name": "stdout",
     "output_type": "stream",
     "text": [
      "Доля совпадений в словах: 6.38%\n"
     ]
    }
   ],
   "source": [
    "ans = compare_texts(human_text1, human_text2)\n",
    "print(f\"Доля совпадений в словах: {ans * 100:.2f}%\")"
   ]
  },
  {
   "cell_type": "markdown",
   "metadata": {},
   "source": [
    "Осмысленный текст и текст из случайных букв:"
   ]
  },
  {
   "cell_type": "code",
   "execution_count": 26,
   "metadata": {},
   "outputs": [],
   "source": [
    "mean = 0"
   ]
  },
  {
   "cell_type": "code",
   "execution_count": 27,
   "metadata": {},
   "outputs": [
    {
     "name": "stdout",
     "output_type": "stream",
     "text": [
      "Доля совпадений в словах: 2.73%\n"
     ]
    }
   ],
   "source": [
    "ans = compare_texts(human_text1, chars_text1)\n",
    "mean += ans\n",
    "print(f\"Доля совпадений в словах: {ans * 100:.2f}%\")"
   ]
  },
  {
   "cell_type": "code",
   "execution_count": 28,
   "metadata": {},
   "outputs": [
    {
     "name": "stdout",
     "output_type": "stream",
     "text": [
      "Доля совпадений в словах: 2.60%\n"
     ]
    }
   ],
   "source": [
    "ans = compare_texts(human_text1, chars_text2)\n",
    "mean += ans\n",
    "print(f\"Доля совпадений в словах: {ans * 100:.2f}%\")"
   ]
  },
  {
   "cell_type": "code",
   "execution_count": 29,
   "metadata": {},
   "outputs": [
    {
     "name": "stdout",
     "output_type": "stream",
     "text": [
      "Доля совпадений в словах: 2.76%\n"
     ]
    }
   ],
   "source": [
    "ans = compare_texts(human_text2, chars_text1)\n",
    "mean += ans\n",
    "print(f\"Доля совпадений в словах: {ans * 100:.2f}%\")"
   ]
  },
  {
   "cell_type": "code",
   "execution_count": 30,
   "metadata": {},
   "outputs": [
    {
     "name": "stdout",
     "output_type": "stream",
     "text": [
      "Доля совпадений в словах: 2.66%\n"
     ]
    }
   ],
   "source": [
    "ans = compare_texts(human_text2, chars_text2)\n",
    "mean += ans\n",
    "print(f\"Доля совпадений в словах: {ans * 100:.2f}%\")"
   ]
  },
  {
   "cell_type": "code",
   "execution_count": 31,
   "metadata": {},
   "outputs": [
    {
     "name": "stdout",
     "output_type": "stream",
     "text": [
      "Средняя доля совпадений в словах: 2.69%\n"
     ]
    }
   ],
   "source": [
    "print(f\"Средняя доля совпадений в словах: {(mean / 4) * 100:.2f}%\")"
   ]
  },
  {
   "cell_type": "markdown",
   "metadata": {},
   "source": [
    "Осмысленный текст и текст из случайных слов:"
   ]
  },
  {
   "cell_type": "code",
   "execution_count": 32,
   "metadata": {},
   "outputs": [],
   "source": [
    "mean = 0"
   ]
  },
  {
   "cell_type": "code",
   "execution_count": 33,
   "metadata": {},
   "outputs": [
    {
     "name": "stdout",
     "output_type": "stream",
     "text": [
      "Доля совпадений в словах: 5.91%\n"
     ]
    }
   ],
   "source": [
    "ans = compare_texts(human_text1, words_text1)\n",
    "mean += ans\n",
    "print(f\"Доля совпадений в словах: {ans * 100:.2f}%\")"
   ]
  },
  {
   "cell_type": "code",
   "execution_count": 34,
   "metadata": {},
   "outputs": [
    {
     "name": "stdout",
     "output_type": "stream",
     "text": [
      "Доля совпадений в словах: 5.95%\n"
     ]
    }
   ],
   "source": [
    "ans = compare_texts(human_text1, words_text2)\n",
    "mean += ans\n",
    "print(f\"Доля совпадений в словах: {ans * 100:.2f}%\")"
   ]
  },
  {
   "cell_type": "code",
   "execution_count": 35,
   "metadata": {},
   "outputs": [
    {
     "name": "stdout",
     "output_type": "stream",
     "text": [
      "Доля совпадений в словах: 5.99%\n"
     ]
    }
   ],
   "source": [
    "ans = compare_texts(human_text2, words_text1)\n",
    "mean += ans\n",
    "print(f\"Доля совпадений в словах: {ans * 100:.2f}%\")"
   ]
  },
  {
   "cell_type": "code",
   "execution_count": 36,
   "metadata": {},
   "outputs": [
    {
     "name": "stdout",
     "output_type": "stream",
     "text": [
      "Доля совпадений в словах: 5.81%\n"
     ]
    }
   ],
   "source": [
    "ans = compare_texts(human_text2, words_text2)\n",
    "mean += ans\n",
    "print(f\"Доля совпадений в словах: {ans * 100:.2f}%\")"
   ]
  },
  {
   "cell_type": "code",
   "execution_count": 37,
   "metadata": {},
   "outputs": [
    {
     "name": "stdout",
     "output_type": "stream",
     "text": [
      "Средняя доля совпадений в словах: 5.92%\n"
     ]
    }
   ],
   "source": [
    "print(f\"Средняя доля совпадений в словах: {(mean / 4) * 100:.2f}%\")"
   ]
  },
  {
   "cell_type": "markdown",
   "metadata": {},
   "source": [
    "Два текста из случайных букв:"
   ]
  },
  {
   "cell_type": "code",
   "execution_count": 38,
   "metadata": {},
   "outputs": [
    {
     "name": "stdout",
     "output_type": "stream",
     "text": [
      "Доля совпадений в словах: 2.71%\n"
     ]
    }
   ],
   "source": [
    "ans = compare_texts(chars_text1, chars_text2)\n",
    "print(f\"Доля совпадений в словах: {ans * 100:.2f}%\")"
   ]
  },
  {
   "cell_type": "markdown",
   "metadata": {},
   "source": [
    "Два текста из случайных слов:"
   ]
  },
  {
   "cell_type": "code",
   "execution_count": 39,
   "metadata": {},
   "outputs": [
    {
     "name": "stdout",
     "output_type": "stream",
     "text": [
      "Доля совпадений в словах: 5.65%\n"
     ]
    }
   ],
   "source": [
    "ans = compare_texts(words_text1, words_text2)\n",
    "print(f\"Доля совпадений в словах: {ans * 100:.2f}%\")"
   ]
  },
  {
   "cell_type": "markdown",
   "metadata": {},
   "source": [
    "<h5><center> Выполнил Бронников Максим </center></h5>\n",
    "<h5><center> 07.06.2020 </center></h5>"
   ]
  }
 ],
 "metadata": {
  "kernelspec": {
   "display_name": "Python 3",
   "language": "python",
   "name": "python3"
  },
  "language_info": {
   "codemirror_mode": {
    "name": "ipython",
    "version": 3
   },
   "file_extension": ".py",
   "mimetype": "text/x-python",
   "name": "python",
   "nbconvert_exporter": "python",
   "pygments_lexer": "ipython3",
   "version": "3.7.6"
  }
 },
 "nbformat": 4,
 "nbformat_minor": 4
}
